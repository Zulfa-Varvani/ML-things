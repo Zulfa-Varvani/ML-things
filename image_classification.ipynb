{
  "nbformat": 4,
  "nbformat_minor": 0,
  "metadata": {
    "accelerator": "GPU",
    "colab": {
      "name": "image_classification.ipynb",
      "provenance": [],
      "authorship_tag": "ABX9TyO2G0xqLnE/kvh8VVyAsnnr"
    },
    "kernelspec": {
      "display_name": "Python 3",
      "name": "python3"
    },
    "language_info": {
      "name": "python"
    }
  },
  "cells": [
    {
      "cell_type": "code",
      "metadata": {
        "id": "mOpp2UVvsHxV"
      },
      "source": [
        "import tensorflow as tf\n",
        "import matplotlib.pyplot as plt\n",
        "from keras.datasets import cifar10\n",
        "from tensorflow.keras.utils import to_categorical\n",
        "from tensorflow.keras.models import Sequential\n",
        "from tensorflow.keras.layers import Conv2D, MaxPooling2D, Dense, Flatten, Dropout\n",
        "from tensorflow.keras.optimizers import SGD\n",
        "from keras.preprocessing.image import ImageDataGenerator"
      ],
      "execution_count": 1,
      "outputs": []
    },
    {
      "cell_type": "code",
      "metadata": {
        "id": "6qFW3WIxsH56"
      },
      "source": [
        "#loading dataset and one hot encode target values\n",
        "def load_ds():\n",
        "  (train_x, train_y), (test_x,test_y) = cifar10.load_data()\n",
        "  train_y = to_categorical(train_y)\n",
        "  test_y = to_categorical(test_y)\n",
        "  return train_x,train_y,test_x,test_y"
      ],
      "execution_count": 2,
      "outputs": []
    },
    {
      "cell_type": "code",
      "metadata": {
        "id": "1LHQJJnp28IN"
      },
      "source": [
        "#scale pixels\n",
        "def pixels_prep(train,test):\n",
        "  train_n = train.astype('float32') #integers to floats\n",
        "  test_n = test.astype('float32')\n",
        "  train_n /= 255.0 #normalize range 0-1\n",
        "  test_n /= 255.0\n",
        "  return train_n, test_n"
      ],
      "execution_count": 3,
      "outputs": []
    },
    {
      "cell_type": "code",
      "metadata": {
        "id": "S3tr1DHd25Tw"
      },
      "source": [
        "#cnn model\n",
        "# 1 VGG Block 67% accuracy\n",
        "# 2 VGG Blocks 71.5% accuracy\n",
        "# 3 VGG Blocks 73% accuracy\n",
        "# Dropout regularization 82.4% accuracy\n",
        "# Data augmentation 84.3%\n",
        "def model_def():\n",
        "\tmodel = Sequential()\n",
        "\tmodel.add(Conv2D(32, (3, 3), activation='relu', kernel_initializer='he_uniform', padding='same', input_shape=(32, 32, 3)))\n",
        "\tmodel.add(Conv2D(32, (3, 3), activation='relu', kernel_initializer='he_uniform', padding='same'))\n",
        "\tmodel.add(MaxPooling2D((2, 2)))\n",
        "\tmodel.add(Conv2D(64, (3, 3), activation='relu', kernel_initializer='he_uniform', padding='same'))\n",
        "\tmodel.add(Conv2D(64, (3, 3), activation='relu', kernel_initializer='he_uniform', padding='same'))\n",
        "\tmodel.add(MaxPooling2D((2, 2)))\n",
        "\tmodel.add(Conv2D(128, (3, 3), activation='relu', kernel_initializer='he_uniform', padding='same'))\n",
        "\tmodel.add(Conv2D(128, (3, 3), activation='relu', kernel_initializer='he_uniform', padding='same'))\n",
        "\tmodel.add(MaxPooling2D((2, 2)))\n",
        "\tmodel.add(Flatten())\n",
        "\tmodel.add(Dense(128, activation='relu', kernel_initializer='he_uniform'))\n",
        "\tmodel.add(Dense(10, activation='softmax'))\n",
        "\t# compile model\n",
        "\topt = SGD(learning_rate=0.001, momentum=0.9)\n",
        "\tmodel.compile(optimizer=opt, loss='categorical_crossentropy', metrics=['accuracy'])\n",
        "\treturn model"
      ],
      "execution_count": 4,
      "outputs": []
    },
    {
      "cell_type": "code",
      "metadata": {
        "id": "kTzyRgZO23Pp"
      },
      "source": [
        "#plot for learning curves\n",
        "def diagnostics(history):\n",
        "  plt.subplot(211)\n",
        "  plt.title('Cross Entropy Loss')\n",
        "  plt.plot(history.history['loss'], color='blue',label='train')\n",
        "  plt.plot(history.history['val_loss'], color='orange', label='test')\n",
        "  plt.subplot(212)\n",
        "  plt.title('Classification Accuracy')\n",
        "  plt.plot(history.history['accuracy'], color='blue',label='train')\n",
        "  plt.plot(history.history['val_accuracy'], color='orange', label='test')"
      ],
      "execution_count": 5,
      "outputs": []
    },
    {
      "cell_type": "code",
      "metadata": {
        "id": "6V1-3bN520lD",
        "colab": {
          "base_uri": "https://localhost:8080/",
          "height": 349
        },
        "outputId": "14918e4e-b1b2-474f-9c81-f911736ecaad"
      },
      "source": [
        "#evaluating a model\n",
        "def run_test():\n",
        "  train_x, train_y, test_x, test_y = load_ds()\n",
        "  train_x, test_x = pixels_prep(train_x,test_x)\n",
        "  model = model_def()\n",
        "  datagen = ImageDataGenerator(width_shift_range=0.1, height_shift_range=0.1, horizontal_flip=True)\n",
        "  it_train = datagen.flow(train_x, train_y, batch_size=64)\n",
        "  #steps = int(train_x.shape[0] / 64)\n",
        "\n",
        "  history = model.fit(it_train, workers=8, epochs=100, validation_data=(test_x,test_y), verbose=0)\n",
        "  _,acc = model.evaluate(test_x, test_y, verbose=0)\n",
        "  print(f'{acc*100}%')\n",
        "  diagnostics(history)\n",
        "run_test()"
      ],
      "execution_count": 6,
      "outputs": [
        {
          "output_type": "stream",
          "text": [
            "Downloading data from https://www.cs.toronto.edu/~kriz/cifar-10-python.tar.gz\n",
            "170500096/170498071 [==============================] - 4s 0us/step\n",
            "170508288/170498071 [==============================] - 4s 0us/step\n",
            "84.25999879837036%\n"
          ],
          "name": "stdout"
        },
        {
          "output_type": "display_data",
          "data": {
            "image/png": "[encoded data removed]",
            "text/plain": [
              "<Figure size 432x288 with 2 Axes>"
            ]
          },
          "metadata": {
            "needs_background": "light"
          }
        }
      ]
    }
  ]
}