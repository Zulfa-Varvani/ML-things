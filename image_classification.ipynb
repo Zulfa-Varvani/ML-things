{
  "nbformat": 4,
  "nbformat_minor": 0,
  "metadata": {
    "accelerator": "GPU",
    "colab": {
      "name": "image_classification.ipynb",
      "provenance": [],
      "authorship_tag": "ABX9TyOBeqjx9v/R5arDp/lCZk9N",
      "include_colab_link": true
    },
    "kernelspec": {
      "display_name": "Python 3",
      "name": "python3"
    },
    "language_info": {
      "name": "python"
    }
  },
  "cells": [
    {
      "cell_type": "markdown",
      "metadata": {
        "id": "view-in-github",
        "colab_type": "text"
      },
      "source": [
        "<a href=\"https://colab.research.google.com/github/Zulfa-Varvani/ML-things/blob/main/image_classification.ipynb\" target=\"_parent\"><img src=\"https://colab.research.google.com/assets/colab-badge.svg\" alt=\"Open In Colab\"/></a>"
      ]
    },
    {
      "cell_type": "code",
      "metadata": {
        "id": "mOpp2UVvsHxV"
      },
      "source": [
        "import tensorflow as tf\n",
        "import matplotlib.pyplot as plt\n",
        "from keras.datasets import cifar10\n",
        "from tensorflow.keras.utils import to_categorical\n",
        "from tensorflow.keras.models import Sequential\n",
        "from tensorflow.keras.layers import Conv2D, MaxPooling2D, Dense, Flatten, Dropout\n",
        "from tensorflow.keras.optimizers import SGD"
      ],
      "execution_count": 15,
      "outputs": []
    },
    {
      "cell_type": "code",
      "metadata": {
        "id": "6qFW3WIxsH56"
      },
      "source": [
        "#loading dataset and one hot encode target values\n",
        "def load_ds():\n",
        "  (train_x, train_y), (test_x,test_y) = cifar10.load_data()\n",
        "  train_y = to_categorical(train_y)\n",
        "  test_y = to_categorical(test_y)\n",
        "  return train_x,train_y,test_x,test_y"
      ],
      "execution_count": 16,
      "outputs": []
    },
    {
      "cell_type": "code",
      "metadata": {
        "id": "1LHQJJnp28IN"
      },
      "source": [
        "#scale pixels\n",
        "def pixels_prep(train,test):\n",
        "  train_n = train.astype('float32') #integers to floats\n",
        "  test_n = test.astype('float32')\n",
        "  train_n /= 255.0 #normalize range 0-1\n",
        "  test_n /= 255.0\n",
        "  return train_n, test_n"
      ],
      "execution_count": 17,
      "outputs": []
    },
    {
      "cell_type": "code",
      "metadata": {
        "id": "S3tr1DHd25Tw"
      },
      "source": [
        "#cnn model\n",
        "# 1 VGG Block 67% accuracy\n",
        "# 2 VGG Blocks 71.5% accuracy\n",
        "# 3 VGG Blocks 73% accuracy\n",
        "# Dropout regularization 82.4% accuracy\n",
        "def model_def():\n",
        "  model = Sequential()\n",
        "  model.add(Conv2D(32,(3,3), activation='relu', kernel_initializer = 'he_uniform', padding='same', input_shape=(32,32,3)))\n",
        "  model.add(Conv2D(32,(3,3), activation='relu', kernel_initializer = 'he_uniform', padding='same'))\n",
        "  model.add(MaxPooling2D((2,2)))\n",
        "  model.add(Dropout(0.2))\n",
        "  model.add(Conv2D(64,(3,3), activation='relu', kernel_initializer = 'he_uniform', padding='same'))\n",
        "  model.add(Conv2D(64,(3,3), activation='relu', kernel_initializer = 'he_uniform', padding='same'))\n",
        "  model.add(MaxPooling2D((2,2)))\n",
        "  model.add(Dropout(0.2))\n",
        "  model.add(Conv2D(128,(3,3), activation='relu', kernel_initializer = 'he_uniform', padding='same'))\n",
        "  model.add(Conv2D(128,(3,3), activation='relu', kernel_initializer = 'he_uniform', padding='same'))\n",
        "  model.add(MaxPooling2D((2,2)))\n",
        "  model.add(Dropout(0.2))\n",
        "  model.add(Flatten())\n",
        "  model.add(Dense(128, activation='relu', kernel_initializer='he_uniform'))\n",
        "  model.add(Dense(10,activation='softmax'))\n",
        "\n",
        "  opt = SGD(learning_rate=0.001, momentum=0.9)\n",
        "  model.compile(optimizer=opt, loss='categorical_crossentropy', metrics=['accuracy'])\n",
        "  return model"
      ],
      "execution_count": 18,
      "outputs": []
    },
    {
      "cell_type": "code",
      "metadata": {
        "id": "kTzyRgZO23Pp"
      },
      "source": [
        "#plot for learning curves\n",
        "def diagnostics(history):\n",
        "  plt.subplot(211)\n",
        "  plt.title('Cross Entropy Loss')\n",
        "  plt.plot(history.history['loss'], color='blue',label='train')\n",
        "  plt.plot(history.history['val_loss'], color='orange', label='test')\n",
        "  plt.subplot(212)\n",
        "  plt.title('Classification Accuracy')\n",
        "  plt.plot(history.history['accuracy'], color='blue',label='train')\n",
        "  plt.plot(history.history['val_accuracy'], color='orange', label='test')"
      ],
      "execution_count": 19,
      "outputs": []
    },
    {
      "cell_type": "code",
      "metadata": {
        "colab": {
          "base_uri": "https://localhost:8080/",
          "height": 298
        },
        "id": "6V1-3bN520lD",
        "outputId": "c1221972-64d5-4f06-c582-170af33a406d"
      },
      "source": [
        "#evaluating a model\n",
        "def run_test():\n",
        "  train_x, train_y, test_x, test_y = load_ds()\n",
        "  train_x, test_x = pixels_prep(train_x,test_x)\n",
        "  model = model_def()\n",
        "  history = model.fit(train_x, train_y, epochs=100, batch_size=64, validation_data=(test_x,test_y), verbose=0)\n",
        "  _,acc = model.evaluate(test_x, test_y, verbose=0)\n",
        "  print(f'{acc*100}%')\n",
        "  diagnostics(history)\n",
        "run_test()"
      ],
      "execution_count": 21,
      "outputs": [
        {
          "output_type": "stream",
          "text": [
            "82.38999843597412%\n"
          ],
          "name": "stdout"
        },
        {
          "output_type": "display_data",
          "data": {
            "image/png": "[encoded data removed]",
            "text/plain": [
              "<Figure size 432x288 with 2 Axes>"
            ]
          },
          "metadata": {
            "needs_background": "light"
          }
        }
      ]
    }
  ]
}