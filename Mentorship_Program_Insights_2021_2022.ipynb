{
  "nbformat": 4,
  "nbformat_minor": 0,
  "metadata": {
    "colab": {
      "name": "Mentorship Program Insights 2021/2022.ipynb",
      "provenance": [],
      "authorship_tag": "ABX9TyPhAOXTKnu346HSYszszaRX",
      "include_colab_link": true
    },
    "kernelspec": {
      "name": "python3",
      "display_name": "Python 3"
    },
    "language_info": {
      "name": "python"
    }
  },
  "cells": [
    {
      "cell_type": "markdown",
      "metadata": {
        "id": "view-in-github",
        "colab_type": "text"
      },
      "source": [
        "<a href=\"https://colab.research.google.com/github/Zulfa-Varvani/ML-things/blob/main/Mentorship_Program_Insights_2021_2022.ipynb\" target=\"_parent\"><img src=\"https://colab.research.google.com/assets/colab-badge.svg\" alt=\"Open In Colab\"/></a>"
      ]
    },
    {
      "cell_type": "code",
      "metadata": {
        "colab": {
          "resources": {
            "http://localhost:8080/nbextensions/google.colab/files.js": {
              "data": "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",
              "ok": true,
              "headers": [
                [
                  "content-type",
                  "application/javascript"
                ]
              ],
              "status": 200,
              "status_text": ""
            }
          },
          "base_uri": "https://localhost:8080/",
          "height": 72
        },
        "id": "UN5Yft9WYz3r",
        "outputId": "7481a346-01c0-40e8-dc52-35219801c7fc"
      },
      "source": [
        "import numpy as np\n",
        "import pandas as pd\n",
        "%matplotlib inline\n",
        "import matplotlib.pyplot as plt\n",
        "import seaborn as sns\n",
        "color = sns.color_palette()\n",
        "sns.set_style('darkgrid')\n",
        "\n",
        "from google.colab import files\n",
        "uploaded = files.upload()"
      ],
      "execution_count": null,
      "outputs": [
        {
          "output_type": "display_data",
          "data": {
            "text/html": [
              "\n",
              "     <input type=\"file\" id=\"files-75d718a4-22ce-4a0b-8c6e-a54af8cf33b4\" name=\"files[]\" multiple disabled\n",
              "        style=\"border:none\" />\n",
              "     <output id=\"result-75d718a4-22ce-4a0b-8c6e-a54af8cf33b4\">\n",
              "      Upload widget is only available when the cell has been executed in the\n",
              "      current browser session. Please rerun this cell to enable.\n",
              "      </output>\n",
              "      <script src=\"/nbextensions/google.colab/files.js\"></script> "
            ],
            "text/plain": [
              "<IPython.core.display.HTML object>"
            ]
          },
          "metadata": {}
        },
        {
          "output_type": "stream",
          "name": "stdout",
          "text": [
            "Saving Mentorship Program Applications.csv to Mentorship Program Applications.csv\n"
          ]
        }
      ]
    },
    {
      "cell_type": "code",
      "metadata": {
        "colab": {
          "base_uri": "https://localhost:8080/",
          "height": 853
        },
        "id": "N-eegFVfZBBo",
        "outputId": "1723e534-90cf-427d-e7a4-0acb7f84eaf6"
      },
      "source": [
        "import io\n",
        "\n",
        "df = pd.read_csv(io.BytesIO(uploaded['Mentorship Program Applications.csv']))\n",
        "df.head()"
      ],
      "execution_count": null,
      "outputs": [
        {
          "output_type": "execute_result",
          "data": {
            "text/html": [
              "<div>\n",
              "<style scoped>\n",
              "    .dataframe tbody tr th:only-of-type {\n",
              "        vertical-align: middle;\n",
              "    }\n",
              "\n",
              "    .dataframe tbody tr th {\n",
              "        vertical-align: top;\n",
              "    }\n",
              "\n",
              "    .dataframe thead th {\n",
              "        text-align: right;\n",
              "    }\n",
              "</style>\n",
              "<table border=\"1\" class=\"dataframe\">\n",
              "  <thead>\n",
              "    <tr style=\"text-align: right;\">\n",
              "      <th></th>\n",
              "      <th>Timestamp</th>\n",
              "      <th>Email Address</th>\n",
              "      <th>Full Name (first and last)</th>\n",
              "      <th>Phone number</th>\n",
              "      <th>Do you identify as a female?</th>\n",
              "      <th>Which institution do you go to?</th>\n",
              "      <th>What year are you in?</th>\n",
              "      <th>What is your major?</th>\n",
              "      <th>Please upload a PDF of your resume</th>\n",
              "      <th>Please put a link to your LinkedIn</th>\n",
              "      <th>What is your area of interest?</th>\n",
              "      <th>Tell us a bit about yourself. Why are you interested in STEAM?</th>\n",
              "      <th>What are you interested in learning from the mentorship program? What is your goal?</th>\n",
              "      <th>What areas do you feel your require more support in? Please explain.</th>\n",
              "      <th>If you are chosen to partake in this Mentorship program as a Mentee, are you able to attend the Mentorship Program Kick-off Event on September 9, 2021? (Virtually)</th>\n",
              "      <th>I acknowledge that I will commit to taking on the roles and responsibilities of a Mentee if chosen as all parties have invested significant resources to make this program a success.</th>\n",
              "    </tr>\n",
              "  </thead>\n",
              "  <tbody>\n",
              "    <tr>\n",
              "      <th>0</th>\n",
              "      <td>7/29/2021 13:02:24</td>\n",
              "      <td>queenie.zhu@ryerson.ca</td>\n",
              "      <td>Queenie Zhu</td>\n",
              "      <td>6479752689</td>\n",
              "      <td>Yes</td>\n",
              "      <td>Ryerson University</td>\n",
              "      <td>Year 4</td>\n",
              "      <td>Business</td>\n",
              "      <td>https://drive.google.com/open?id=1bNqcPNUiXOFX...</td>\n",
              "      <td>https://www.linkedin.com/in/queenieezhu/</td>\n",
              "      <td>Data Science</td>\n",
              "      <td>I am a Marketing Management Major pursuing a m...</td>\n",
              "      <td>I would love the opportunity to learn from Cap...</td>\n",
              "      <td>I feel that I lack real-world work experiences...</td>\n",
              "      <td>Yes</td>\n",
              "      <td>Yes</td>\n",
              "    </tr>\n",
              "    <tr>\n",
              "      <th>1</th>\n",
              "      <td>7/29/2021 13:27:50</td>\n",
              "      <td>aashnav2001@gmail.com</td>\n",
              "      <td>Aashna Vasudeva</td>\n",
              "      <td>4379715147</td>\n",
              "      <td>Yes</td>\n",
              "      <td>University of Toronto</td>\n",
              "      <td>Year 3</td>\n",
              "      <td>Computer Science</td>\n",
              "      <td>https://drive.google.com/open?id=16QbO6mQqBN2U...</td>\n",
              "      <td>https://www.linkedin.com/in/aashna-vasudeva-37...</td>\n",
              "      <td>Software Engineering</td>\n",
              "      <td>I am a third year student at the University of...</td>\n",
              "      <td>Being a university student, my exposure to ind...</td>\n",
              "      <td>I believe I lack in my ability to reach out to...</td>\n",
              "      <td>Yes</td>\n",
              "      <td>Yes</td>\n",
              "    </tr>\n",
              "    <tr>\n",
              "      <th>2</th>\n",
              "      <td>7/30/2021 9:41:55</td>\n",
              "      <td>anoushkasinghalcs@gmail.com</td>\n",
              "      <td>Anoushka Singhal</td>\n",
              "      <td>6478691051</td>\n",
              "      <td>Yes</td>\n",
              "      <td>Carleton University</td>\n",
              "      <td>Year 4</td>\n",
              "      <td>Computer Science</td>\n",
              "      <td>https://drive.google.com/open?id=1QTITSgCsgOeP...</td>\n",
              "      <td>https://ca.linkedin.com/in/anoushkasinghal</td>\n",
              "      <td>Data Science</td>\n",
              "      <td>I am a 4th year CS student and I enjoy coding....</td>\n",
              "      <td>I would like to expand my horizon and learn mo...</td>\n",
              "      <td>I would like to get into data science and prac...</td>\n",
              "      <td>Yes</td>\n",
              "      <td>Yes</td>\n",
              "    </tr>\n",
              "    <tr>\n",
              "      <th>3</th>\n",
              "      <td>8/1/2021 0:50:49</td>\n",
              "      <td>emilylaox@gmail.com</td>\n",
              "      <td>Emily Lao</td>\n",
              "      <td>6477236868</td>\n",
              "      <td>Yes</td>\n",
              "      <td>Western University</td>\n",
              "      <td>Year 2</td>\n",
              "      <td>Business</td>\n",
              "      <td>https://drive.google.com/open?id=14Tc83zCPvJQ5...</td>\n",
              "      <td>linkedin.com/in/elao</td>\n",
              "      <td>Software Engineering</td>\n",
              "      <td>My growing interest in STEAM came by during qu...</td>\n",
              "      <td>My largest differentiating factor throughout t...</td>\n",
              "      <td>As mentioned in the previous question, there a...</td>\n",
              "      <td>Yes</td>\n",
              "      <td>Yes</td>\n",
              "    </tr>\n",
              "    <tr>\n",
              "      <th>4</th>\n",
              "      <td>8/2/2021 0:48:04</td>\n",
              "      <td>isabella.enriquez@queensu.ca</td>\n",
              "      <td>Isabella Enriquez</td>\n",
              "      <td>6479859749</td>\n",
              "      <td>Yes</td>\n",
              "      <td>Queen's University</td>\n",
              "      <td>Year 3</td>\n",
              "      <td>Computer Science</td>\n",
              "      <td>https://drive.google.com/open?id=1pUrbfNB_wHI6...</td>\n",
              "      <td>https://linkedin.com/in/isabellaenriquez</td>\n",
              "      <td>Software Engineering</td>\n",
              "      <td>I first got into tech when I accidentally took...</td>\n",
              "      <td>One of my main goals in life is to just consta...</td>\n",
              "      <td>I think an area I need the most support in is ...</td>\n",
              "      <td>Yes</td>\n",
              "      <td>Yes</td>\n",
              "    </tr>\n",
              "  </tbody>\n",
              "</table>\n",
              "</div>"
            ],
            "text/plain": [
              "            Timestamp  ... I acknowledge that I will commit to taking on the roles and responsibilities of a Mentee if chosen as all parties have invested significant resources to make this program a success.\n",
              "0  7/29/2021 13:02:24  ...                                                Yes                                                                                                                                   \n",
              "1  7/29/2021 13:27:50  ...                                                Yes                                                                                                                                   \n",
              "2   7/30/2021 9:41:55  ...                                                Yes                                                                                                                                   \n",
              "3    8/1/2021 0:50:49  ...                                                Yes                                                                                                                                   \n",
              "4    8/2/2021 0:48:04  ...                                                Yes                                                                                                                                   \n",
              "\n",
              "[5 rows x 16 columns]"
            ]
          },
          "metadata": {},
          "execution_count": 4
        }
      ]
    },
    {
      "cell_type": "code",
      "metadata": {
        "colab": {
          "base_uri": "https://localhost:8080/",
          "height": 204
        },
        "id": "jUviWjxaZQrd",
        "outputId": "07ecdae5-de2b-47fd-d8bb-5acc6c65db73"
      },
      "source": [
        "#dropping unnecassary columns\n",
        "cols_drop = ['Timestamp', 'Email Address', 'Phone number', 'Please upload a PDF of your resume', 'Please put a link to your LinkedIn',\n",
        "             'Tell us a bit about yourself. Why are you interested in STEAM?', 'What are you interested in learning from the mentorship program? What is your goal?',\n",
        "             'What areas do you feel your require more support in? Please explain.',\n",
        "             'If you are chosen to partake in this Mentorship program as a Mentee, are you able to attend the Mentorship Program Kick-off Event on September 9, 2021? (Virtually)',\n",
        "             'I acknowledge that I will commit to taking on the roles and responsibilities of a Mentee if chosen as all parties have invested significant resources to make this program a success.',\n",
        "             ]\n",
        "    \n",
        "df.drop(cols_drop, axis=1, inplace=True)\n",
        "df.head()"
      ],
      "execution_count": null,
      "outputs": [
        {
          "output_type": "execute_result",
          "data": {
            "text/html": [
              "<div>\n",
              "<style scoped>\n",
              "    .dataframe tbody tr th:only-of-type {\n",
              "        vertical-align: middle;\n",
              "    }\n",
              "\n",
              "    .dataframe tbody tr th {\n",
              "        vertical-align: top;\n",
              "    }\n",
              "\n",
              "    .dataframe thead th {\n",
              "        text-align: right;\n",
              "    }\n",
              "</style>\n",
              "<table border=\"1\" class=\"dataframe\">\n",
              "  <thead>\n",
              "    <tr style=\"text-align: right;\">\n",
              "      <th></th>\n",
              "      <th>Full Name (first and last)</th>\n",
              "      <th>Do you identify as a female?</th>\n",
              "      <th>Which institution do you go to?</th>\n",
              "      <th>What year are you in?</th>\n",
              "      <th>What is your major?</th>\n",
              "      <th>What is your area of interest?</th>\n",
              "    </tr>\n",
              "  </thead>\n",
              "  <tbody>\n",
              "    <tr>\n",
              "      <th>0</th>\n",
              "      <td>Queenie Zhu</td>\n",
              "      <td>Yes</td>\n",
              "      <td>Ryerson University</td>\n",
              "      <td>Year 4</td>\n",
              "      <td>Business</td>\n",
              "      <td>Data Science</td>\n",
              "    </tr>\n",
              "    <tr>\n",
              "      <th>1</th>\n",
              "      <td>Aashna Vasudeva</td>\n",
              "      <td>Yes</td>\n",
              "      <td>University of Toronto</td>\n",
              "      <td>Year 3</td>\n",
              "      <td>Computer Science</td>\n",
              "      <td>Software Engineering</td>\n",
              "    </tr>\n",
              "    <tr>\n",
              "      <th>2</th>\n",
              "      <td>Anoushka Singhal</td>\n",
              "      <td>Yes</td>\n",
              "      <td>Carleton University</td>\n",
              "      <td>Year 4</td>\n",
              "      <td>Computer Science</td>\n",
              "      <td>Data Science</td>\n",
              "    </tr>\n",
              "    <tr>\n",
              "      <th>3</th>\n",
              "      <td>Emily Lao</td>\n",
              "      <td>Yes</td>\n",
              "      <td>Western University</td>\n",
              "      <td>Year 2</td>\n",
              "      <td>Business</td>\n",
              "      <td>Software Engineering</td>\n",
              "    </tr>\n",
              "    <tr>\n",
              "      <th>4</th>\n",
              "      <td>Isabella Enriquez</td>\n",
              "      <td>Yes</td>\n",
              "      <td>Queen's University</td>\n",
              "      <td>Year 3</td>\n",
              "      <td>Computer Science</td>\n",
              "      <td>Software Engineering</td>\n",
              "    </tr>\n",
              "  </tbody>\n",
              "</table>\n",
              "</div>"
            ],
            "text/plain": [
              "  Full Name (first and last)  ... What is your area of interest?\n",
              "0                Queenie Zhu  ...                   Data Science\n",
              "1            Aashna Vasudeva  ...           Software Engineering\n",
              "2           Anoushka Singhal  ...                   Data Science\n",
              "3                  Emily Lao  ...           Software Engineering\n",
              "4          Isabella Enriquez  ...           Software Engineering\n",
              "\n",
              "[5 rows x 6 columns]"
            ]
          },
          "metadata": {},
          "execution_count": 5
        }
      ]
    },
    {
      "cell_type": "code",
      "metadata": {
        "colab": {
          "base_uri": "https://localhost:8080/",
          "height": 173
        },
        "id": "laG3MsZubmm8",
        "outputId": "98cc74fe-bb6f-4d11-be22-2449749c40da"
      },
      "source": [
        "df.describe()"
      ],
      "execution_count": null,
      "outputs": [
        {
          "output_type": "execute_result",
          "data": {
            "text/html": [
              "<div>\n",
              "<style scoped>\n",
              "    .dataframe tbody tr th:only-of-type {\n",
              "        vertical-align: middle;\n",
              "    }\n",
              "\n",
              "    .dataframe tbody tr th {\n",
              "        vertical-align: top;\n",
              "    }\n",
              "\n",
              "    .dataframe thead th {\n",
              "        text-align: right;\n",
              "    }\n",
              "</style>\n",
              "<table border=\"1\" class=\"dataframe\">\n",
              "  <thead>\n",
              "    <tr style=\"text-align: right;\">\n",
              "      <th></th>\n",
              "      <th>Full Name (first and last)</th>\n",
              "      <th>Do you identify as a female?</th>\n",
              "      <th>Which institution do you go to?</th>\n",
              "      <th>What year are you in?</th>\n",
              "      <th>What is your major?</th>\n",
              "      <th>What is your area of interest?</th>\n",
              "    </tr>\n",
              "  </thead>\n",
              "  <tbody>\n",
              "    <tr>\n",
              "      <th>count</th>\n",
              "      <td>58</td>\n",
              "      <td>58</td>\n",
              "      <td>58</td>\n",
              "      <td>58</td>\n",
              "      <td>58</td>\n",
              "      <td>58</td>\n",
              "    </tr>\n",
              "    <tr>\n",
              "      <th>unique</th>\n",
              "      <td>58</td>\n",
              "      <td>2</td>\n",
              "      <td>18</td>\n",
              "      <td>5</td>\n",
              "      <td>22</td>\n",
              "      <td>2</td>\n",
              "    </tr>\n",
              "    <tr>\n",
              "      <th>top</th>\n",
              "      <td>Zoey Zheng</td>\n",
              "      <td>Yes</td>\n",
              "      <td>University of Waterloo</td>\n",
              "      <td>Year 3</td>\n",
              "      <td>Computer Science</td>\n",
              "      <td>Software Engineering</td>\n",
              "    </tr>\n",
              "    <tr>\n",
              "      <th>freq</th>\n",
              "      <td>1</td>\n",
              "      <td>55</td>\n",
              "      <td>14</td>\n",
              "      <td>28</td>\n",
              "      <td>26</td>\n",
              "      <td>35</td>\n",
              "    </tr>\n",
              "  </tbody>\n",
              "</table>\n",
              "</div>"
            ],
            "text/plain": [
              "       Full Name (first and last)  ... What is your area of interest?\n",
              "count                          58  ...                             58\n",
              "unique                         58  ...                              2\n",
              "top                    Zoey Zheng  ...           Software Engineering\n",
              "freq                            1  ...                             35\n",
              "\n",
              "[4 rows x 6 columns]"
            ]
          },
          "metadata": {},
          "execution_count": 6
        }
      ]
    },
    {
      "cell_type": "code",
      "metadata": {
        "colab": {
          "base_uri": "https://localhost:8080/",
          "height": 204
        },
        "id": "9_IiMkcyuy3F",
        "outputId": "8d1510b1-8b0a-4f03-f873-26f9044d84c4"
      },
      "source": [
        "#rename columns and some values\n",
        "df = df.rename(columns={'Full Name (first and last)': 'Name',\n",
        "                        'Which institution do you go to?' : 'School',\n",
        "                        'What year are you in?': 'Year',\n",
        "                        'What is your major?': 'Program',\n",
        "                        'What is your area of interest?': 'Interest'})\n",
        "\n",
        "df = df.rename(columns={df.columns[1]: 'Gender'})\n",
        "\n",
        "df['School'] = df['School'].replace(['Ryerson University ', 'Ryerson university', 'Ryerson university '], 'Ryerson University')\n",
        "df['School'] = df['School'].replace(['University of Toronto Mississauga', 'University of Toronto Mississauga ',\n",
        "                                     'University of Toronto - St. George Campus', 'University of Toronto Scarborough', 'University of Toronto '],\n",
        "                                    'University of Toronto')\n",
        "df['School'] = df['School'].replace(['Carleton university', 'Western University '], ['Carleton University', 'Western University'])\n",
        "df['Year'] = df['Year'].replace(['Internship program between 3rd and 4th year', 'going into year 2'], ['Year 4', 'Year 2'])\n",
        "\n",
        "df.head()"
      ],
      "execution_count": null,
      "outputs": [
        {
          "output_type": "execute_result",
          "data": {
            "text/html": [
              "<div>\n",
              "<style scoped>\n",
              "    .dataframe tbody tr th:only-of-type {\n",
              "        vertical-align: middle;\n",
              "    }\n",
              "\n",
              "    .dataframe tbody tr th {\n",
              "        vertical-align: top;\n",
              "    }\n",
              "\n",
              "    .dataframe thead th {\n",
              "        text-align: right;\n",
              "    }\n",
              "</style>\n",
              "<table border=\"1\" class=\"dataframe\">\n",
              "  <thead>\n",
              "    <tr style=\"text-align: right;\">\n",
              "      <th></th>\n",
              "      <th>Name</th>\n",
              "      <th>Gender</th>\n",
              "      <th>School</th>\n",
              "      <th>Year</th>\n",
              "      <th>Program</th>\n",
              "      <th>Interest</th>\n",
              "    </tr>\n",
              "  </thead>\n",
              "  <tbody>\n",
              "    <tr>\n",
              "      <th>0</th>\n",
              "      <td>Queenie Zhu</td>\n",
              "      <td>Yes</td>\n",
              "      <td>Ryerson University</td>\n",
              "      <td>Year 4</td>\n",
              "      <td>Business</td>\n",
              "      <td>Data Science</td>\n",
              "    </tr>\n",
              "    <tr>\n",
              "      <th>1</th>\n",
              "      <td>Aashna Vasudeva</td>\n",
              "      <td>Yes</td>\n",
              "      <td>University of Toronto</td>\n",
              "      <td>Year 3</td>\n",
              "      <td>Computer Science</td>\n",
              "      <td>Software Engineering</td>\n",
              "    </tr>\n",
              "    <tr>\n",
              "      <th>2</th>\n",
              "      <td>Anoushka Singhal</td>\n",
              "      <td>Yes</td>\n",
              "      <td>Carleton University</td>\n",
              "      <td>Year 4</td>\n",
              "      <td>Computer Science</td>\n",
              "      <td>Data Science</td>\n",
              "    </tr>\n",
              "    <tr>\n",
              "      <th>3</th>\n",
              "      <td>Emily Lao</td>\n",
              "      <td>Yes</td>\n",
              "      <td>Western University</td>\n",
              "      <td>Year 2</td>\n",
              "      <td>Business</td>\n",
              "      <td>Software Engineering</td>\n",
              "    </tr>\n",
              "    <tr>\n",
              "      <th>4</th>\n",
              "      <td>Isabella Enriquez</td>\n",
              "      <td>Yes</td>\n",
              "      <td>Queen's University</td>\n",
              "      <td>Year 3</td>\n",
              "      <td>Computer Science</td>\n",
              "      <td>Software Engineering</td>\n",
              "    </tr>\n",
              "  </tbody>\n",
              "</table>\n",
              "</div>"
            ],
            "text/plain": [
              "                Name Gender  ...           Program              Interest\n",
              "0        Queenie Zhu    Yes  ...          Business          Data Science\n",
              "1    Aashna Vasudeva    Yes  ...  Computer Science  Software Engineering\n",
              "2   Anoushka Singhal    Yes  ...  Computer Science          Data Science\n",
              "3          Emily Lao    Yes  ...          Business  Software Engineering\n",
              "4  Isabella Enriquez    Yes  ...  Computer Science  Software Engineering\n",
              "\n",
              "[5 rows x 6 columns]"
            ]
          },
          "metadata": {},
          "execution_count": 7
        }
      ]
    },
    {
      "cell_type": "code",
      "metadata": {
        "colab": {
          "base_uri": "https://localhost:8080/"
        },
        "id": "hvmtT6rIZRoq",
        "outputId": "c9781683-879c-487e-d6ec-755a2df1b9d1"
      },
      "source": [
        "df = df[df.Gender != 'No']\n",
        "df['Gender'].value_counts()"
      ],
      "execution_count": null,
      "outputs": [
        {
          "output_type": "execute_result",
          "data": {
            "text/plain": [
              "Yes    55\n",
              "Name: Gender, dtype: int64"
            ]
          },
          "metadata": {},
          "execution_count": 8
        }
      ]
    },
    {
      "cell_type": "code",
      "metadata": {
        "colab": {
          "base_uri": "https://localhost:8080/"
        },
        "id": "JdgCmBpDZZMm",
        "outputId": "2de9f9c7-cabc-41db-d5f8-c5df15a5e3fa"
      },
      "source": [
        "df['School'].value_counts()"
      ],
      "execution_count": null,
      "outputs": [
        {
          "output_type": "execute_result",
          "data": {
            "text/plain": [
              "University of Waterloo    14\n",
              "University of Toronto     14\n",
              "Ryerson University        11\n",
              "Carleton University        5\n",
              "Western University         5\n",
              "University of Ottawa       2\n",
              "Queen's University         2\n",
              "University of Guelph       1\n",
              "York University            1\n",
              "Name: School, dtype: int64"
            ]
          },
          "metadata": {},
          "execution_count": 9
        }
      ]
    },
    {
      "cell_type": "code",
      "metadata": {
        "colab": {
          "base_uri": "https://localhost:8080/"
        },
        "id": "0Tcq68BY09Nl",
        "outputId": "a1dc6119-9a4f-4c31-ba28-0cf2faa17995"
      },
      "source": [
        "df['Program'].value_counts()\n",
        "#sort programs according to STEAM"
      ],
      "execution_count": null,
      "outputs": [
        {
          "output_type": "execute_result",
          "data": {
            "text/plain": [
              "Computer Science                               25\n",
              "Computer Engineering                            6\n",
              "Biomedical Engineering                          3\n",
              "Business                                        3\n",
              "Software Engineering                            2\n",
              "Computational Cognitive Science                 1\n",
              "Nanotechnology Engineering                      1\n",
              "Data science and informatics                    1\n",
              "Biology > Data Science                          1\n",
              "Biomedical Engineering                          1\n",
              "Computer Science and Business Double Degree     1\n",
              "Data Science                                    1\n",
              "Management Engineering                          1\n",
              "Financial Mathematics                           1\n",
              "Molecular Biology & Biotechnology               1\n",
              "Statistics Major, CS Minor                      1\n",
              "Applied Mathematics                             1\n",
              "Information Technology                          1\n",
              "Statistics and Computer Science Minor           1\n",
              "Economics                                       1\n",
              "Mathematics and Business                        1\n",
              "Name: Program, dtype: int64"
            ]
          },
          "metadata": {},
          "execution_count": 10
        }
      ]
    },
    {
      "cell_type": "code",
      "metadata": {
        "id": "je6J--iKkxQT",
        "colab": {
          "base_uri": "https://localhost:8080/"
        },
        "outputId": "3c72674e-641a-447d-b27a-7a6bfb8e2a0c"
      },
      "source": [
        "#science - bio/chem/physics/enviornmental\n",
        "#technology - cs/it/cybersecurity\n",
        "#engineering - engineering\n",
        "#arts - business/econ\n",
        "#mathematics - statistics/data science/mathematics\n",
        "\n",
        "df['Program'] = df['Program'].replace(['Biology > Data Science', 'Molecular Biology & Biotechnology'], 'Science')\n",
        "df['Program'] = df['Program'].replace(['Computer Science', 'Computational Cognitive Science',\n",
        "                                       'Information Technology'], 'Technology')\n",
        "df.loc[df['Program'].str.contains('Engineering', case=False), 'Program'] = 'Engineering'\n",
        "df['Program'] = df['Program'].replace(['Business', 'Economics'], 'Arts')\n",
        "df['Program'] = df['Program'].replace(['Data Science', 'Financial Mathematics', 'Applied Mathematics', 'Data science and informatics'], 'Mathematics')\n",
        "df['Program'] = df['Program'].replace(['Statistics Major, CS Minor', 'Statistics and Computer Science Minor'], 'Math Major, Technology Minor')\n",
        "\n",
        "df['Program'].value_counts()"
      ],
      "execution_count": null,
      "outputs": [
        {
          "output_type": "execute_result",
          "data": {
            "text/plain": [
              "Technology                                     27\n",
              "Engineering                                    14\n",
              "Mathematics                                     4\n",
              "Arts                                            4\n",
              "Math Major, Technology Minor                    2\n",
              "Science                                         2\n",
              "Computer Science and Business Double Degree     1\n",
              "Mathematics and Business                        1\n",
              "Name: Program, dtype: int64"
            ]
          },
          "metadata": {},
          "execution_count": 11
        }
      ]
    },
    {
      "cell_type": "code",
      "metadata": {
        "id": "6gdKATN45L0h",
        "colab": {
          "base_uri": "https://localhost:8080/"
        },
        "outputId": "54250b5e-586b-4318-c8bd-0ca27e553b93"
      },
      "source": [
        "df['Year'].value_counts()"
      ],
      "execution_count": null,
      "outputs": [
        {
          "output_type": "execute_result",
          "data": {
            "text/plain": [
              "Year 3    27\n",
              "Year 2    20\n",
              "Year 4     8\n",
              "Name: Year, dtype: int64"
            ]
          },
          "metadata": {},
          "execution_count": 12
        }
      ]
    },
    {
      "cell_type": "code",
      "metadata": {
        "colab": {
          "base_uri": "https://localhost:8080/"
        },
        "id": "NxU_2AqIfFXN",
        "outputId": "a1bacb57-e727-4ce7-85e2-98b6c4834382"
      },
      "source": [
        "df['Interest'].value_counts()"
      ],
      "execution_count": null,
      "outputs": [
        {
          "output_type": "execute_result",
          "data": {
            "text/plain": [
              "Software Engineering    33\n",
              "Data Science            22\n",
              "Name: Interest, dtype: int64"
            ]
          },
          "metadata": {},
          "execution_count": 13
        }
      ]
    },
    {
      "cell_type": "code",
      "metadata": {
        "id": "3109SBRAmyWE"
      },
      "source": [
        "def count_col(col):\n",
        "  count = df.School.isin([col]).sum(axis=0)\n",
        "  ds = df[df.Interest.str.contains('Data Science')].School.isin([col]).sum(axis=0)\n",
        "  se = df[df.Interest.str.contains('Software Engineering')].School.isin([col]).sum(axis=0)\n",
        "  y2 = df[df.Year.str.contains('Year 2')].School.isin([col]).sum(axis=0)\n",
        "  y3 = df[df.Year.str.contains('Year 3')].School.isin([col]).sum(axis=0)\n",
        "  y4 = df[df.Year.str.contains('Year 4')].School.isin([col]).sum(axis=0)\n",
        "\n",
        "  stats = np.array([count, ds, se, y2, y3, y4])\n",
        "  return stats"
      ],
      "execution_count": null,
      "outputs": []
    },
    {
      "cell_type": "code",
      "metadata": {
        "colab": {
          "base_uri": "https://localhost:8080/",
          "height": 235
        },
        "id": "F6wFH6jpcnKo",
        "outputId": "080329fd-43e8-4ff0-ff1e-3794ffbefed9"
      },
      "source": [
        "data_stats = pd.DataFrame(columns=['Ryerson University', 'University of Toronto', 'Carleton University','Western University',\n",
        "                                   \"Queen's University\", 'University of Waterloo', 'York University', 'University of Guelph',\n",
        "                                   'University of Ottawa'],\n",
        "                            index=['Total', 'Data Science', 'Software Engineering', 'Year 2', 'Year 3', 'Year 4'])\n",
        "for col in data_stats:\n",
        "  data_stats[col] = count_col(col)\n",
        "data_stats"
      ],
      "execution_count": null,
      "outputs": [
        {
          "output_type": "execute_result",
          "data": {
            "text/html": [
              "<div>\n",
              "<style scoped>\n",
              "    .dataframe tbody tr th:only-of-type {\n",
              "        vertical-align: middle;\n",
              "    }\n",
              "\n",
              "    .dataframe tbody tr th {\n",
              "        vertical-align: top;\n",
              "    }\n",
              "\n",
              "    .dataframe thead th {\n",
              "        text-align: right;\n",
              "    }\n",
              "</style>\n",
              "<table border=\"1\" class=\"dataframe\">\n",
              "  <thead>\n",
              "    <tr style=\"text-align: right;\">\n",
              "      <th></th>\n",
              "      <th>Ryerson University</th>\n",
              "      <th>University of Toronto</th>\n",
              "      <th>Carleton University</th>\n",
              "      <th>Western University</th>\n",
              "      <th>Queen's University</th>\n",
              "      <th>University of Waterloo</th>\n",
              "      <th>York University</th>\n",
              "      <th>University of Guelph</th>\n",
              "      <th>University of Ottawa</th>\n",
              "    </tr>\n",
              "  </thead>\n",
              "  <tbody>\n",
              "    <tr>\n",
              "      <th>Total</th>\n",
              "      <td>11</td>\n",
              "      <td>14</td>\n",
              "      <td>5</td>\n",
              "      <td>5</td>\n",
              "      <td>2</td>\n",
              "      <td>14</td>\n",
              "      <td>1</td>\n",
              "      <td>1</td>\n",
              "      <td>2</td>\n",
              "    </tr>\n",
              "    <tr>\n",
              "      <th>Data Science</th>\n",
              "      <td>5</td>\n",
              "      <td>5</td>\n",
              "      <td>4</td>\n",
              "      <td>3</td>\n",
              "      <td>1</td>\n",
              "      <td>2</td>\n",
              "      <td>1</td>\n",
              "      <td>0</td>\n",
              "      <td>1</td>\n",
              "    </tr>\n",
              "    <tr>\n",
              "      <th>Software Engineering</th>\n",
              "      <td>6</td>\n",
              "      <td>9</td>\n",
              "      <td>1</td>\n",
              "      <td>2</td>\n",
              "      <td>1</td>\n",
              "      <td>12</td>\n",
              "      <td>0</td>\n",
              "      <td>1</td>\n",
              "      <td>1</td>\n",
              "    </tr>\n",
              "    <tr>\n",
              "      <th>Year 2</th>\n",
              "      <td>2</td>\n",
              "      <td>4</td>\n",
              "      <td>1</td>\n",
              "      <td>2</td>\n",
              "      <td>1</td>\n",
              "      <td>10</td>\n",
              "      <td>0</td>\n",
              "      <td>0</td>\n",
              "      <td>0</td>\n",
              "    </tr>\n",
              "    <tr>\n",
              "      <th>Year 3</th>\n",
              "      <td>7</td>\n",
              "      <td>7</td>\n",
              "      <td>3</td>\n",
              "      <td>2</td>\n",
              "      <td>1</td>\n",
              "      <td>3</td>\n",
              "      <td>1</td>\n",
              "      <td>1</td>\n",
              "      <td>2</td>\n",
              "    </tr>\n",
              "    <tr>\n",
              "      <th>Year 4</th>\n",
              "      <td>2</td>\n",
              "      <td>3</td>\n",
              "      <td>1</td>\n",
              "      <td>1</td>\n",
              "      <td>0</td>\n",
              "      <td>1</td>\n",
              "      <td>0</td>\n",
              "      <td>0</td>\n",
              "      <td>0</td>\n",
              "    </tr>\n",
              "  </tbody>\n",
              "</table>\n",
              "</div>"
            ],
            "text/plain": [
              "                      Ryerson University  ...  University of Ottawa\n",
              "Total                                 11  ...                     2\n",
              "Data Science                           5  ...                     1\n",
              "Software Engineering                   6  ...                     1\n",
              "Year 2                                 2  ...                     0\n",
              "Year 3                                 7  ...                     2\n",
              "Year 4                                 2  ...                     0\n",
              "\n",
              "[6 rows x 9 columns]"
            ]
          },
          "metadata": {},
          "execution_count": 15
        }
      ]
    },
    {
      "cell_type": "code",
      "metadata": {
        "colab": {
          "base_uri": "https://localhost:8080/",
          "height": 411
        },
        "id": "vPVPWvGoVSJA",
        "outputId": "15f0a11f-eeaa-4c2b-a847-3d40f86fa45e"
      },
      "source": [
        "fig = plt.figure(figsize=(10,7))\n",
        "plt.pie(data_stats.iloc[0], labels = data_stats.columns, autopct='%.0f%%')\n",
        "plt.show()"
      ],
      "execution_count": null,
      "outputs": [
        {
          "output_type": "display_data",
          "data": {
            "image/png": "[encoded data removed]",
            "text/plain": [
              "<Figure size 720x504 with 1 Axes>"
            ]
          },
          "metadata": {}
        }
      ]
    },
    {
      "cell_type": "code",
      "metadata": {
        "colab": {
          "base_uri": "https://localhost:8080/",
          "height": 496
        },
        "id": "GB6G5dnqjDIQ",
        "outputId": "1e146767-a03a-4423-feaa-3afccd6a5f26"
      },
      "source": [
        "data = df.groupby(['Year', 'Interest']).size()\n",
        "data= data.unstack()\n",
        "data.plot(xlabel='Program Year', ylabel='Count', kind='bar', figsize=(10,7), title='Number of applicants in each program year')"
      ],
      "execution_count": null,
      "outputs": [
        {
          "output_type": "execute_result",
          "data": {
            "text/plain": [
              "<matplotlib.axes._subplots.AxesSubplot at 0x7f4c66005a50>"
            ]
          },
          "metadata": {},
          "execution_count": 17
        },
        {
          "output_type": "display_data",
          "data": {
            "image/png": "[encoded data removed]",
            "text/plain": [
              "<Figure size 720x504 with 1 Axes>"
            ]
          },
          "metadata": {}
        }
      ]
    },
    {
      "cell_type": "code",
      "metadata": {
        "id": "psp8urkqiIwG",
        "colab": {
          "base_uri": "https://localhost:8080/",
          "height": 173
        },
        "outputId": "3a9f7a5a-53ea-404a-c5c0-11f9776f17ba"
      },
      "source": [
        "df.describe()\n",
        "#most are in University of Waterloo (14) or UofT (14), third year (27), computer science (25), and interested in software engineering (33)"
      ],
      "execution_count": null,
      "outputs": [
        {
          "output_type": "execute_result",
          "data": {
            "text/html": [
              "<div>\n",
              "<style scoped>\n",
              "    .dataframe tbody tr th:only-of-type {\n",
              "        vertical-align: middle;\n",
              "    }\n",
              "\n",
              "    .dataframe tbody tr th {\n",
              "        vertical-align: top;\n",
              "    }\n",
              "\n",
              "    .dataframe thead th {\n",
              "        text-align: right;\n",
              "    }\n",
              "</style>\n",
              "<table border=\"1\" class=\"dataframe\">\n",
              "  <thead>\n",
              "    <tr style=\"text-align: right;\">\n",
              "      <th></th>\n",
              "      <th>Name</th>\n",
              "      <th>Gender</th>\n",
              "      <th>School</th>\n",
              "      <th>Year</th>\n",
              "      <th>Program</th>\n",
              "      <th>Interest</th>\n",
              "    </tr>\n",
              "  </thead>\n",
              "  <tbody>\n",
              "    <tr>\n",
              "      <th>count</th>\n",
              "      <td>55</td>\n",
              "      <td>55</td>\n",
              "      <td>55</td>\n",
              "      <td>55</td>\n",
              "      <td>55</td>\n",
              "      <td>55</td>\n",
              "    </tr>\n",
              "    <tr>\n",
              "      <th>unique</th>\n",
              "      <td>55</td>\n",
              "      <td>1</td>\n",
              "      <td>9</td>\n",
              "      <td>3</td>\n",
              "      <td>8</td>\n",
              "      <td>2</td>\n",
              "    </tr>\n",
              "    <tr>\n",
              "      <th>top</th>\n",
              "      <td>Zoey Zheng</td>\n",
              "      <td>Yes</td>\n",
              "      <td>University of Waterloo</td>\n",
              "      <td>Year 3</td>\n",
              "      <td>Technology</td>\n",
              "      <td>Software Engineering</td>\n",
              "    </tr>\n",
              "    <tr>\n",
              "      <th>freq</th>\n",
              "      <td>1</td>\n",
              "      <td>55</td>\n",
              "      <td>14</td>\n",
              "      <td>27</td>\n",
              "      <td>27</td>\n",
              "      <td>33</td>\n",
              "    </tr>\n",
              "  </tbody>\n",
              "</table>\n",
              "</div>"
            ],
            "text/plain": [
              "              Name Gender  ...     Program              Interest\n",
              "count           55     55  ...          55                    55\n",
              "unique          55      1  ...           8                     2\n",
              "top     Zoey Zheng    Yes  ...  Technology  Software Engineering\n",
              "freq             1     55  ...          27                    33\n",
              "\n",
              "[4 rows x 6 columns]"
            ]
          },
          "metadata": {},
          "execution_count": 18
        }
      ]
    }
  ]
}